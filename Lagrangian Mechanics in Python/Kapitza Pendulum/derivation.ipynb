{
 "cells": [
  {
   "cell_type": "code",
   "execution_count": 2,
   "metadata": {},
   "outputs": [],
   "source": [
    "from sympy import *\n",
    "from sympy.physics.mechanics import *\n",
    "init_vprinting()"
   ]
  },
  {
   "cell_type": "code",
   "execution_count": 7,
   "metadata": {},
   "outputs": [
    {
     "data": {
      "image/png": "[encoded data removed]",
      "text/latex": [
       "$\\displaystyle \\left[\\begin{matrix}\\dot{\\theta}\\\\\\ddot{\\theta}\\end{matrix}\\right] = \\left[\\begin{matrix}\\dot{\\theta}\\\\\\frac{- b \\dot{\\theta} + \\ell m \\left(- a w^{2} \\sin{\\left(t w \\right)} + g\\right) \\sin{\\left(\\theta \\right)}}{\\ell^{2} m}\\end{matrix}\\right]$"
      ],
      "text/plain": [
       "      ⎡                    θ̇                    ⎤\n",
       "      ⎢                                         ⎥\n",
       "⎡θ̇⎤   ⎢             ⎛     2             ⎞       ⎥\n",
       "⎢ ⎥ = ⎢-b⋅θ̇ + ell⋅m⋅⎝- a⋅w ⋅sin(t⋅w) + g⎠⋅sin(θ)⎥\n",
       "⎣θ̈⎦   ⎢─────────────────────────────────────────⎥\n",
       "      ⎢                     2                   ⎥\n",
       "      ⎣                  ell ⋅m                 ⎦"
      ]
     },
     "execution_count": 7,
     "metadata": {},
     "output_type": "execute_result"
    }
   ],
   "source": [
    "# define our symbolic variables\n",
    "m, g, ell, a, w, b, t = symbols('m g ell a w b t')\n",
    "\n",
    "# dynamic symbols have implicit dependence on time\n",
    "theta = dynamicsymbols('theta')\n",
    "\n",
    "# x and y position of the pendulum\n",
    "x = ell*sin(theta)\n",
    "y = ell*cos(theta) + a*sin(w*t)\n",
    "\n",
    "# take time derivatives\n",
    "theta_dot = diff(theta, t)\n",
    "theta_ddot = diff(theta_dot, t)\n",
    "x_dot = diff(x,t)\n",
    "y_dot = diff(y,t)\n",
    "\n",
    "# define our kinetic, potential energy, and Lagrangian\n",
    "T = 1/2*m*(x_dot**2 + y_dot**2)\n",
    "V = m*g*y\n",
    "L = T - V\n",
    "\n",
    "# solve the Euler-Lagrange Equations\n",
    "eqn_1 = diff( diff(L,theta_dot), t) - diff(L, theta) + b*theta_dot # with damping\n",
    "# eqn_1 = diff( diff(L,theta_dot), t) - diff(L, theta) # no damping\n",
    "sln = solve(eqn_1, theta_ddot)[0]\n",
    "\n",
    "# show the solution in state-space form\n",
    "f = Matrix([theta_dot, sln])\n",
    "f = simplify(f)\n",
    "q = Matrix([theta, theta_dot])\n",
    "q_dot = diff(q,t)\n",
    "\n",
    "Eq(q_dot, f)"
   ]
  },
  {
   "cell_type": "code",
   "execution_count": 8,
   "metadata": {},
   "outputs": [
    {
     "name": "stdout",
     "output_type": "stream",
     "text": [
      "f[0] = theta_dot\n",
      "f[1] = (-b*theta_dot + ell*m*(-a*w**2*sin(t*w) + g)*sin(theta))/(ell**2*m)\n"
     ]
    }
   ],
   "source": [
    "# write each row of f in ASCII text, suitable for inclusion in simulation code\n",
    "g = f.subs({theta: 'theta', theta_dot: 'theta_dot'})\n",
    "for i in range(2):\n",
    "    print('f[{}] = {}'.format(i, g[i]))"
   ]
  }
 ],
 "metadata": {
  "kernelspec": {
   "display_name": "Python 3.10.7 64-bit",
   "language": "python",
   "name": "python3"
  },
  "language_info": {
   "codemirror_mode": {
    "name": "ipython",
    "version": 3
   },
   "file_extension": ".py",
   "mimetype": "text/x-python",
   "name": "python",
   "nbconvert_exporter": "python",
   "pygments_lexer": "ipython3",
   "version": "3.11.4"
  },
  "orig_nbformat": 4,
  "vscode": {
   "interpreter": {
    "hash": "9d6144efefa755d1a6f9079aff989e4e8b6496d9c0eed22ec4cb2f226bf88ff8"
   }
  }
 },
 "nbformat": 4,
 "nbformat_minor": 2
}
