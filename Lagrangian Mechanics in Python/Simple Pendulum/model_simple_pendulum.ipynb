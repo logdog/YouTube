{
 "cells": [
  {
   "cell_type": "code",
   "execution_count": null,
   "metadata": {},
   "outputs": [],
   "source": [
    "# import statements\n",
    "from sympy import *\n",
    "from sympy.physics.mechanics import *\n",
    "\n",
    "# enable LaTeX printing\n",
    "init_vprinting()"
   ]
  },
  {
   "cell_type": "markdown",
   "metadata": {},
   "source": [
    "$x_m = \\ell \\sin \\theta ~~~~~~~~~~~~~~~~~~~~~~  y_m = - \\ell \\cos \\theta$\n",
    "\n",
    "$T = \\frac{1}{2} m (\\dot x_m^2 + \\dot y_m^2)  ~~~~~~~~~~ V = m g y_m$"
   ]
  },
  {
   "cell_type": "code",
   "execution_count": null,
   "metadata": {},
   "outputs": [],
   "source": [
    "# create symbolic variables\n",
    "m, g, ell, t = symbols('m g ell t')\n",
    "theta = dynamicsymbols('theta')\n",
    "\n",
    "# define xm and ym\n",
    "xm = ell*sin(theta)\n",
    "ym = -ell*cos(theta)\n",
    "\n",
    "# derivative\n",
    "xm_dot = diff(xm, t)\n",
    "ym_dot = diff(ym, t)\n",
    "\n",
    "theta_dot = diff(theta, t)\n",
    "theta_ddot = diff(theta_dot, t)\n",
    "\n",
    "# Lagrangian\n",
    "T = 1/2*m*(xm_dot**2 + ym_dot**2)\n",
    "V = m*g*ym\n",
    "L = T - V"
   ]
  },
  {
   "cell_type": "markdown",
   "metadata": {},
   "source": [
    "$\\dfrac{d}{dt} \\bigg( \\dfrac{\\partial L}{\\partial \\dot \\theta} \\bigg) - \\dfrac{\\partial L}{\\partial \\theta} = 0$"
   ]
  },
  {
   "cell_type": "code",
   "execution_count": null,
   "metadata": {},
   "outputs": [],
   "source": [
    "# Euler-Lagrange Equation\n",
    "eqn = diff ( diff(L, theta_dot), t) - diff(L, theta)\n",
    "\n",
    "# Solution\n",
    "sln = solve(eqn, theta_ddot)[0]\n",
    "Eq(theta_ddot, sln)"
   ]
  },
  {
   "cell_type": "code",
   "execution_count": null,
   "metadata": {},
   "outputs": [],
   "source": [
    "# system of ODEs\n",
    "x = Matrix([theta, theta_dot])\n",
    "x_dot = diff(x, t)\n",
    "Eq(x_dot, Matrix([theta_dot, sln]))"
   ]
  }
 ],
 "metadata": {
  "kernelspec": {
   "display_name": "Python 3.10.7 64-bit",
   "language": "python",
   "name": "python3"
  },
  "language_info": {
   "codemirror_mode": {
    "name": "ipython",
    "version": 3
   },
   "file_extension": ".py",
   "mimetype": "text/x-python",
   "name": "python",
   "nbconvert_exporter": "python",
   "pygments_lexer": "ipython3",
   "version": "3.10.7"
  },
  "orig_nbformat": 4,
  "vscode": {
   "interpreter": {
    "hash": "9d6144efefa755d1a6f9079aff989e4e8b6496d9c0eed22ec4cb2f226bf88ff8"
   }
  }
 },
 "nbformat": 4,
 "nbformat_minor": 2
}
