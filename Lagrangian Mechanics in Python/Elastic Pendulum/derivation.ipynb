{
 "cells": [
  {
   "cell_type": "code",
   "execution_count": 1,
   "metadata": {},
   "outputs": [],
   "source": [
    "from sympy import *\n",
    "from sympy.physics.mechanics import *\n",
    "init_vprinting()\n"
   ]
  },
  {
   "cell_type": "code",
   "execution_count": 2,
   "metadata": {},
   "outputs": [
    {
     "data": {
      "image/png": "[encoded data removed]",
      "text/latex": [
       "$\\displaystyle \\left[\\begin{matrix}\\dot{\\theta}\\\\\\ddot{\\theta}\\\\\\dot{\\ell}\\\\\\ddot{\\ell}\\end{matrix}\\right] = \\left[\\begin{matrix}\\dot{\\theta}\\\\\\frac{- g \\sin{\\left(\\theta \\right)} - 2.0 \\dot{\\ell} \\dot{\\theta}}{\\ell_{0} + \\ell}\\\\\\dot{\\ell}\\\\\\ell_{0} \\dot{\\theta}^{2} + g \\cos{\\left(\\theta \\right)} - \\frac{k \\ell}{m} + \\ell \\dot{\\theta}^{2}\\end{matrix}\\right]$"
      ],
      "text/plain": [
       "        ⎡                 θ̇                 ⎤\n",
       "        ⎢                                   ⎥\n",
       "⎡ θ̇ ⎤   ⎢       -g⋅sin(θ) - 2.0⋅el̇l⋅θ̇       ⎥\n",
       "⎢   ⎥   ⎢       ─────────────────────       ⎥\n",
       "⎢ θ̈ ⎥   ⎢             ell₀ + ell            ⎥\n",
       "⎢   ⎥ = ⎢                                   ⎥\n",
       "⎢el̇l⎥   ⎢                el̇l                ⎥\n",
       "⎢   ⎥   ⎢                                   ⎥\n",
       "⎣el̈l⎦   ⎢      2              k⋅ell        2⎥\n",
       "        ⎢ell₀⋅θ̇  + g⋅cos(θ) - ───── + ell⋅θ̇ ⎥\n",
       "        ⎣                       m           ⎦"
      ]
     },
     "execution_count": 2,
     "metadata": {},
     "output_type": "execute_result"
    }
   ],
   "source": [
    "# define our symbolic variables\n",
    "m, g, k, ell_0, t = symbols('m g k ell_0 t')\n",
    "\n",
    "# dynamic symbols have implicit dependence on time\n",
    "theta, ell = dynamicsymbols('theta ell')\n",
    "\n",
    "# take time derivatives\n",
    "theta_dot = diff(theta, t)\n",
    "theta_ddot = diff(theta_dot, t)\n",
    "ell_dot = diff(ell, t)\n",
    "ell_ddot = diff(ell_dot, t)\n",
    "\n",
    "# define our kinetic, potential energy, and Lagrangian\n",
    "T = 1/2*m*(ell_dot**2 + (ell_0+ell)**2*theta_dot**2)\n",
    "V = 1/2*k*ell**2 - m*g*(ell_0+ell)*cos(theta)\n",
    "L = T - V\n",
    "\n",
    "# solve the Euler-Lagrange Equations\n",
    "eqn_1 = diff( diff(L,theta_dot), t) - diff(L, theta)\n",
    "eqn_2 = diff( diff(L,ell_dot), t) - diff(L, ell)\n",
    "sln = solve([eqn_1, eqn_2], [theta_ddot, ell_ddot])\n",
    "\n",
    "# show the solution\n",
    "f = Matrix([theta_dot, sln[theta_ddot], ell_dot, sln[ell_ddot]])\n",
    "f = simplify(f)\n",
    "x = Matrix([theta, theta_dot, ell, ell_dot])\n",
    "x_dot = diff(x,t)\n",
    "\n",
    "Eq(x_dot, f)"
   ]
  },
  {
   "cell_type": "code",
   "execution_count": 3,
   "metadata": {},
   "outputs": [
    {
     "name": "stdout",
     "output_type": "stream",
     "text": [
      "f[0] = theta_dot\n",
      "f[1] = (-2.0*ell_dot*theta_dot - g*sin(theta))/(ell + ell_0)\n",
      "f[2] = ell_dot\n",
      "f[3] = -ell*k/m + ell*theta_dot**2 + ell_0*theta_dot**2 + g*cos(theta)\n"
     ]
    }
   ],
   "source": [
    "# write each row of f in ASCII text, suitable for inclusion in simulation code\n",
    "g = f.subs({theta: 'theta', theta_dot: 'theta_dot', ell: 'ell', ell_dot: 'ell_dot'})\n",
    "for i in range(4):\n",
    "    print('f[{}] = {}'.format(i, g[i]))"
   ]
  }
 ],
 "metadata": {
  "kernelspec": {
   "display_name": "Python 3",
   "language": "python",
   "name": "python3"
  },
  "language_info": {
   "codemirror_mode": {
    "name": "ipython",
    "version": 3
   },
   "file_extension": ".py",
   "mimetype": "text/x-python",
   "name": "python",
   "nbconvert_exporter": "python",
   "pygments_lexer": "ipython3",
   "version": "3.11.4"
  }
 },
 "nbformat": 4,
 "nbformat_minor": 2
}
