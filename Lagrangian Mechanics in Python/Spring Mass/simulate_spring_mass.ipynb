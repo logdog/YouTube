{
 "cells": [
  {
   "cell_type": "code",
   "execution_count": null,
   "metadata": {},
   "outputs": [],
   "source": [
    "import numpy as np\n",
    "from scipy.integrate import solve_ivp\n",
    "\n",
    "import matplotlib.pyplot as plt\n",
    "import matplotlib.animation as animation"
   ]
  },
  {
   "cell_type": "code",
   "execution_count": null,
   "metadata": {},
   "outputs": [],
   "source": [
    "# assign constants numerical values\n",
    "g = 9.81\n",
    "k = 40\n",
    "m = 1\n",
    "b = 1 # set to zero for no damping\n",
    "\n",
    "# initial conditions: position = 0, velocity = 0\n",
    "x0 = 0\n",
    "x_dot0 = 0\n",
    "\n",
    "# y[0] = x, y[1] = x_dot\n",
    "def spring_mass_friction_ODE(t, y):\n",
    "    return (y[1], g - k*y[0]/m - b*y[1]/m)\n",
    "\n",
    "def spring_mass_ODE(t, y): \n",
    "    return (y[1], g - k*y[0]/m)\n",
    "\n",
    "sol = solve_ivp(spring_mass_friction_ODE, [0, 10], (x0, x_dot0), \n",
    "    t_eval=np.linspace(0,10,10*30))\n",
    "\n",
    "# output of the solver\n",
    "x, x_dot = sol.y\n",
    "t = sol.t"
   ]
  },
  {
   "cell_type": "code",
   "execution_count": null,
   "metadata": {},
   "outputs": [],
   "source": [
    "plt.plot(t, x, 'r', lw=2, label=r'$x$')\n",
    "plt.plot(t, x_dot, 'b', lw=2, label=r'$\\dot x$')\n",
    "plt.title(f'Spring Mass System. k/m={k/m}, g={g}')\n",
    "plt.legend()\n",
    "plt.xlabel('Time (seconds)')\n",
    "plt.ylabel(r'$x$ (m), $\\dot x$ (m/s)')\n",
    "plt.grid()\n",
    "plt.show()"
   ]
  },
  {
   "cell_type": "code",
   "execution_count": null,
   "metadata": {},
   "outputs": [],
   "source": [
    "# animate theta, theta_dot vs time\n",
    "fig, ax = plt.subplots()\n",
    "\n",
    "x_curve, = ax.plot(t[0], x[0], 'r', lw=2, label=r'$x$')\n",
    "x_dot_curve, = ax.plot(t[0], x_dot[0], 'b', lw=2, label=r'$\\dot x$')\n",
    "\n",
    "# make plot pretty\n",
    "ax.set_title(f'Spring Mass System. k/m={k/m}, g={g}')\n",
    "ax.set_xlim(0, 10)\n",
    "ax.set_ylim(-1.5, 1.5)\n",
    "ax.set_xlabel('Time (seconds)')\n",
    "ax.set_ylabel(r'$x$ (m), $\\dot x$ (m/s)')\n",
    "ax.legend(loc='lower left')\n",
    "ax.grid()\n",
    "\n",
    "def animate(i):\n",
    "    x_curve.set_data(t[:i+1], x[:i+1])\n",
    "    x_dot_curve.set_data(t[:i+1], x_dot[:i+1])\n",
    "\n",
    "# save video @ 30 fps\n",
    "ani = animation.FuncAnimation(fig, animate, frames=len(t))\n",
    "ffmpeg_writer = animation.FFMpegWriter(fps=30)\n",
    "# ani.save('time_domain.mp4', writer=ffmpeg_writer)\n",
    "ani.save('time_domain_with_friction.mp4', writer=ffmpeg_writer)"
   ]
  },
  {
   "cell_type": "code",
   "execution_count": null,
   "metadata": {},
   "outputs": [],
   "source": [
    "# phase diagram\n",
    "\n",
    "plt.plot(x, x_dot, 'b', lw=2)\n",
    "plt.title(f'Phase Diagram k/m={k/m}, g={g}')\n",
    "plt.xlabel(r'Position $x$ (m)')\n",
    "plt.ylabel(r'Velocity $\\dot x$ (m/s)')\n",
    "plt.grid()\n",
    "plt.show()"
   ]
  },
  {
   "cell_type": "code",
   "execution_count": null,
   "metadata": {},
   "outputs": [],
   "source": [
    "# animate the phase diagram\n",
    "fig, ax = plt.subplots()\n",
    "\n",
    "phase_curve, = ax.plot(x[0], x_dot[0], 'b')\n",
    "phase_dot, =  ax.plot(x[0], x_dot[0], 'ro')\n",
    "\n",
    "ax.set_title('Spring Mass System - Phase Diagram')\n",
    "ax.set_xlim(-0.01, 0.45)\n",
    "ax.set_ylim(-1.2, 1.5)\n",
    "ax.set_xlabel(r'$x$ (m)')\n",
    "ax.set_ylabel(r'$\\dot x$ (m/s)')\n",
    "ax.grid()\n",
    "\n",
    "def animate(i):\n",
    "    phase_curve.set_data(x[:i+1], x_dot[:i+1])\n",
    "    phase_dot.set_data(x[i], x_dot[i])\n",
    "\n",
    "ani = animation.FuncAnimation(fig, animate, frames=len(t))\n",
    "ffmpeg_writer = animation.FFMpegWriter(fps=30)\n",
    "#ani.save('phase_diagram.mp4', writer=ffmpeg_writer)\n",
    "ani.save('phase_diagram_with_friction.mp4', writer=ffmpeg_writer)"
   ]
  }
 ],
 "metadata": {
  "kernelspec": {
   "display_name": "Python 3.10.7 64-bit",
   "language": "python",
   "name": "python3"
  },
  "language_info": {
   "codemirror_mode": {
    "name": "ipython",
    "version": 3
   },
   "file_extension": ".py",
   "mimetype": "text/x-python",
   "name": "python",
   "nbconvert_exporter": "python",
   "pygments_lexer": "ipython3",
   "version": "3.10.7"
  },
  "orig_nbformat": 4,
  "vscode": {
   "interpreter": {
    "hash": "9d6144efefa755d1a6f9079aff989e4e8b6496d9c0eed22ec4cb2f226bf88ff8"
   }
  }
 },
 "nbformat": 4,
 "nbformat_minor": 2
}
