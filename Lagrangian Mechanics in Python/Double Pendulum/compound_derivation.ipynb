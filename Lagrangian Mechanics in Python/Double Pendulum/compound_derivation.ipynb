{
 "cells": [
  {
   "cell_type": "code",
   "execution_count": 5,
   "metadata": {},
   "outputs": [],
   "source": [
    "import numpy as np\n",
    "from sympy import *\n",
    "from sympy.physics.mechanics import *\n",
    "init_vprinting()"
   ]
  },
  {
   "cell_type": "code",
   "execution_count": 6,
   "metadata": {},
   "outputs": [
    {
     "data": {
      "image/png": "[encoded data removed]",
      "text/latex": [
       "$\\displaystyle \\left\\{ \\ddot{\\theta}_{1} : \\frac{- 6.0 g \\sin{\\left(\\theta_{1} + \\theta_{2} \\right)} + 18.0 g \\sin{\\left(\\theta_{1} + 2 \\theta_{2} \\right)} - 54.0 g \\sin{\\left(\\theta_{1} \\right)} + 18.0 \\sin{\\left(\\theta_{2} \\right)} \\dot{\\theta}_{1}^{2} + 48.0 \\sin{\\left(\\theta_{2} \\right)} \\dot{\\theta}_{1} \\dot{\\theta}_{2} + 24.0 \\sin{\\left(\\theta_{2} \\right)} \\dot{\\theta}_{2}^{2} + 18.0 \\sin{\\left(2 \\theta_{2} \\right)} \\dot{\\theta}_{1}^{2}}{- 36.0 \\cos^{2}{\\left(\\theta_{2} \\right)} + 12.0 \\cos{\\left(\\theta_{2} \\right)} + 67.0}, \\  \\ddot{\\theta}_{2} : \\frac{54.0 g \\sin{\\left(\\theta_{1} - \\theta_{2} \\right)} - 42.0 g \\sin{\\left(\\theta_{1} + \\theta_{2} \\right)} - 18.0 g \\sin{\\left(\\theta_{1} + 2 \\theta_{2} \\right)} + 36.0 g \\sin{\\left(\\theta_{1} \\right)} - 114.0 \\sin{\\left(\\theta_{2} \\right)} \\dot{\\theta}_{1}^{2} - 36.0 \\sin{\\left(\\theta_{2} \\right)} \\dot{\\theta}_{1} \\dot{\\theta}_{2} - 18.0 \\sin{\\left(\\theta_{2} \\right)} \\dot{\\theta}_{2}^{2} - 36.0 \\sin{\\left(2 \\theta_{2} \\right)} \\dot{\\theta}_{1}^{2} - 36.0 \\sin{\\left(2 \\theta_{2} \\right)} \\dot{\\theta}_{1} \\dot{\\theta}_{2} - 18.0 \\sin{\\left(2 \\theta_{2} \\right)} \\dot{\\theta}_{2}^{2}}{- 36.0 \\cos^{2}{\\left(\\theta_{2} \\right)} + 12.0 \\cos{\\left(\\theta_{2} \\right)} + 67.0}\\right\\}$"
      ],
      "text/plain": [
       "⎧                                                                             \n",
       "⎪    -6.0⋅g⋅sin(θ₁ + θ₂) + 18.0⋅g⋅sin(θ₁ + 2⋅θ₂) - 54.0⋅g⋅sin(θ₁) + 18.0⋅sin(θ\n",
       "⎨θ₁̈: ────────────────────────────────────────────────────────────────────────\n",
       "⎪                                                                 2           \n",
       "⎩                                                       - 36.0⋅cos (θ₂) + 12.0\n",
       "\n",
       "     2                                       2                    2           \n",
       "₂)⋅θ₁̇  + 48.0⋅sin(θ₂)⋅θ₁̇⋅θ₂̇ + 24.0⋅sin(θ₂)⋅θ₂̇  + 18.0⋅sin(2⋅θ₂)⋅θ₁̇       \n",
       "────────────────────────────────────────────────────────────────────, θ₂̈: ───\n",
       "                                                                              \n",
       "⋅cos(θ₂) + 67.0                                                               \n",
       "\n",
       "                                                                              \n",
       "54.0⋅g⋅sin(θ₁ - θ₂) - 42.0⋅g⋅sin(θ₁ + θ₂) - 18.0⋅g⋅sin(θ₁ + 2⋅θ₂) + 36.0⋅g⋅sin\n",
       "──────────────────────────────────────────────────────────────────────────────\n",
       "                                                                              \n",
       "                                                                              \n",
       "\n",
       "                  2                                       2                   \n",
       "(θ₁) - 114.0⋅sin(θ₂)⋅θ₁̇  - 36.0⋅sin(θ₂)⋅θ₁̇⋅θ₂̇ - 18.0⋅sin(θ₂)⋅θ₂̇  - 36.0⋅si\n",
       "──────────────────────────────────────────────────────────────────────────────\n",
       "            2                                                                 \n",
       "  - 36.0⋅cos (θ₂) + 12.0⋅cos(θ₂) + 67.0                                       \n",
       "\n",
       " 2                                           2⎫\n",
       "n(2⋅θ₂)⋅θ₁̇  - 36.0⋅sin(2⋅θ₂)⋅θ₁̇⋅θ₂̇ - 18.0⋅sin(2⋅θ₂)⋅θ₂̇ ⎪\n",
       "────────────────────────────────────────────────⎬\n",
       "                                              ⎪\n",
       "                                              ⎭"
      ]
     },
     "execution_count": 6,
     "metadata": {},
     "output_type": "execute_result"
    }
   ],
   "source": [
    "# define our symbolic variables\n",
    "m1, m2, L1, L2, g, t = symbols('m1 m2 L1 L2 g t')\n",
    "\n",
    "# optionally, set the masses and lengths\n",
    "m1 = 1\n",
    "m2 = 1\n",
    "L1 = 1\n",
    "L2 = 1\n",
    "\n",
    "I1 = 1/12*m1*L1**2\n",
    "I2 = 1/12*m2*L2**2\n",
    "\n",
    "# dynamic symbols have implicit dependence on time\n",
    "theta1, theta2 = dynamicsymbols('theta1 theta2')\n",
    "theta1_dot = diff(theta1, t)\n",
    "theta1_ddot = diff(theta1_dot, t)\n",
    "theta2_dot = diff(theta2, t)\n",
    "theta2_ddot = diff(theta2_dot, t)\n",
    "\n",
    "# define coordinate transforms\n",
    "Tsa = np.array([[cos(theta1), -sin(theta1), L1*sin(theta1)],\n",
    "          [sin(theta1), cos(theta1), -L1*cos(theta1)],\n",
    "          [0, 0, 1]])\n",
    "Tab = np.array([[cos(theta2), -sin(theta2), L2*sin(theta2)],\n",
    "          [sin(theta2), cos(theta2), -L2*cos(theta2)],\n",
    "          [0, 0, 1]])\n",
    "Tsb = Tsa @ Tab\n",
    "\n",
    "# write p1, p2 in world frame (in center of rod)\n",
    "p1 = Tsa @ np.array([0,L1/2,1])\n",
    "p2 = Tsb @ np.array([0,L2/2,1])\n",
    "\n",
    "# get the velocities\n",
    "v1 = np.array([diff(p1[0],t), diff(p1[1],t)])\n",
    "v2 = np.array([diff(p2[0],t), diff(p2[1],t)])\n",
    "\n",
    "# total kinetic energy\n",
    "T = 0.5*m1*(v1.T @ v1) + 0.5*m2*(v2.T @ v2) + 0.5*I1*theta1_dot**2 + 0.5*I2*theta2_dot**2\n",
    "\n",
    "# total potential energy\n",
    "V = m1*g*p1[1] + m2*g*p2[1]\n",
    "\n",
    "# Lagrangian\n",
    "L = T - V\n",
    "L = simplify(L) # failure to simplify often may result in no solution\n",
    "\n",
    "# solve the Euler-Lagrange Equations\n",
    "eqn_1 = diff( diff(L,theta1_dot), t) - diff(L, theta1)\n",
    "eqn_2 = diff( diff(L,theta2_dot), t) - diff(L, theta2)\n",
    "eqn_1 = simplify(eqn_1)\n",
    "eqn_2 = simplify(eqn_2)\n",
    "sln = solve([eqn_1, eqn_2], [theta1_ddot,theta2_ddot])\n",
    "\n",
    "sln[theta1_ddot] = simplify(sln[theta1_ddot])\n",
    "sln[theta2_ddot] = simplify(sln[theta2_ddot])\n",
    "\n",
    "sln"
   ]
  },
  {
   "cell_type": "code",
   "execution_count": 7,
   "metadata": {},
   "outputs": [
    {
     "name": "stdout",
     "output_type": "stream",
     "text": [
      "theta1_ddot = (-54.0*g*np.sin(theta1) - 6.0*g*np.sin(theta1 + theta2) + 18.0*g*np.sin(theta1 + 2*theta2) + 18.0*theta1_dot**2*np.sin(theta2) + 18.0*theta1_dot**2*np.sin(2*theta2) + 48.0*theta1_dot*theta2_dot*np.sin(theta2) + 24.0*theta2_dot**2*np.sin(theta2))/(-36.0*np.cos(theta2)**2 + 12.0*np.cos(theta2) + 67.0)\n",
      "theta2_ddot = (36.0*g*np.sin(theta1) + 54.0*g*np.sin(theta1 - theta2) - 42.0*g*np.sin(theta1 + theta2) - 18.0*g*np.sin(theta1 + 2*theta2) - 114.0*theta1_dot**2*np.sin(theta2) - 36.0*theta1_dot**2*np.sin(2*theta2) - 36.0*theta1_dot*theta2_dot*np.sin(theta2) - 36.0*theta1_dot*theta2_dot*np.sin(2*theta2) - 18.0*theta2_dot**2*np.sin(theta2) - 18.0*theta2_dot**2*np.sin(2*theta2))/(-36.0*np.cos(theta2)**2 + 12.0*np.cos(theta2) + 67.0)\n",
      "\n"
     ]
    }
   ],
   "source": [
    "# make it easy to copy and paste into a python script\n",
    "g = Matrix([sln[theta1_ddot], sln[theta2_ddot]]).subs({theta1: 'theta1', theta1_dot: 'theta1_dot',theta2: 'theta2', theta2_dot: 'theta2_dot'})\n",
    "print(f'theta1_ddot = {g[0]}'.replace('sin', 'np.sin').replace('cos', 'np.cos'))\n",
    "print(f'theta2_ddot = {g[1]}'.replace('sin', 'np.sin').replace('cos', 'np.cos'))\n",
    "print()"
   ]
  }
 ],
 "metadata": {
  "kernelspec": {
   "display_name": "Python 3",
   "language": "python",
   "name": "python3"
  },
  "language_info": {
   "codemirror_mode": {
    "name": "ipython",
    "version": 3
   },
   "file_extension": ".py",
   "mimetype": "text/x-python",
   "name": "python",
   "nbconvert_exporter": "python",
   "pygments_lexer": "ipython3",
   "version": "3.11.4"
  }
 },
 "nbformat": 4,
 "nbformat_minor": 2
}
